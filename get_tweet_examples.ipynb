{
 "cells": [
  {
   "cell_type": "code",
   "execution_count": 3,
   "metadata": {},
   "outputs": [],
   "source": [
    "import requests\n",
    "import json\n",
    "import os\n",
    "import pandas as pd\n",
    "from dotenv import load_dotenv\n",
    "load_dotenv()\n",
    "from time import sleep\n",
    "import time\n",
    "from random import uniform\n"
   ]
  },
  {
   "cell_type": "code",
   "execution_count": 4,
   "metadata": {},
   "outputs": [],
   "source": [
    "BEARER_TOKEN = os.environ[\"BEARER_TOKEN\"]\n",
    "\n",
    "#define search twitter function\n",
    "def search_twitter(query, tweet_fields, max_results, bearer_token = BEARER_TOKEN):\n",
    "    headers = {\"Authorization\": \"Bearer {}\".format(bearer_token)}\n",
    "\n",
    "    url = \"https://api.twitter.com/2/tweets/search/recent?query={}&{}&max_results={}&expansions=attachments.media_keys\".format(\n",
    "        query, tweet_fields, max_results\n",
    "    )\n",
    "    response = requests.request(\"GET\", url, headers=headers)\n",
    "\n",
    "    print(response.status_code)\n",
    "\n",
    "    if response.status_code != 200:\n",
    "        raise Exception(response.status_code, response.text)\n",
    "    return response.json()"
   ]
  },
  {
   "cell_type": "code",
   "execution_count": 5,
   "metadata": {},
   "outputs": [],
   "source": [
    "slur_list = [] ## fill list of slurs"
   ]
  },
  {
   "cell_type": "code",
   "execution_count": 6,
   "metadata": {},
   "outputs": [],
   "source": [
    "df = pd.DataFrame()\n",
    "for slur in slur_list:\n",
    "    #search term\n",
    "    query = slur+ \" lang:hi\"\n",
    "    print(query)\n",
    "    # max results\n",
    "    max_results=100\n",
    "\n",
    "    #twitter fields to be returned by api call\n",
    "    tweet_fields = \"tweet.fields=text,author_id,created_at,public_metrics,referenced_tweets\"\n",
    "\n",
    "    #twitter api call\n",
    "    response = search_twitter(query=query, tweet_fields=tweet_fields, max_results=max_results, bearer_token=BEARER_TOKEN)\n",
    "\n",
    "    df = df.append(pd.DataFrame(response['data']))\n",
    "    time.sleep(uniform(1,3))\n",
    "\n",
    "df.to_csv('ogbv_examples.csv')\n"
   ]
  },
  {
   "cell_type": "code",
   "execution_count": 16,
   "metadata": {},
   "outputs": [],
   "source": [
    "df_unique= df.drop_duplicates(subset=['id'],keep='first')\n"
   ]
  },
  {
   "cell_type": "code",
   "execution_count": 18,
   "metadata": {},
   "outputs": [
    {
     "data": {
      "text/plain": [
       "(1217, 7)"
      ]
     },
     "execution_count": 18,
     "metadata": {},
     "output_type": "execute_result"
    }
   ],
   "source": [
    "df.shape"
   ]
  },
  {
   "cell_type": "code",
   "execution_count": 19,
   "metadata": {},
   "outputs": [],
   "source": [
    "df_unique.to_csv('ogbv_examples.csv')"
   ]
  },
  {
   "cell_type": "code",
   "execution_count": 2,
   "metadata": {},
   "outputs": [],
   "source": [
    "# #search term\n",
    "# query = \"फूहड़ OR रंडी lang:hi\"\n",
    "\n",
    "# # max results\n",
    "# max_results=100\n",
    "\n",
    "# #twitter fields to be returned by api call\n",
    "# tweet_fields = \"tweet.fields=text,author_id,created_at,public_metrics,referenced_tweets\"\n",
    "\n",
    "# #twitter api call\n",
    "# response = search_twitter(query=query, tweet_fields=tweet_fields, max_results=max_results, bearer_token=BEARER_TOKEN)\n",
    "\n",
    "# df = pd.DataFrame(response['data'])\n",
    "# df.to_csv('ogbv_examples.csv')\n"
   ]
  },
  {
   "cell_type": "code",
   "execution_count": 1,
   "metadata": {},
   "outputs": [],
   "source": [
    "# response"
   ]
  },
  {
   "cell_type": "code",
   "execution_count": null,
   "metadata": {},
   "outputs": [],
   "source": []
  }
 ],
 "metadata": {
  "kernelspec": {
   "display_name": "Python 3",
   "language": "python",
   "name": "python3"
  },
  "language_info": {
   "codemirror_mode": {
    "name": "ipython",
    "version": 3
   },
   "file_extension": ".py",
   "mimetype": "text/x-python",
   "name": "python",
   "nbconvert_exporter": "python",
   "pygments_lexer": "ipython3",
   "version": "3.8.6"
  }
 },
 "nbformat": 4,
 "nbformat_minor": 4
}
