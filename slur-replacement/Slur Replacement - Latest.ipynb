{
 "cells": [
  {
   "cell_type": "markdown",
   "metadata": {},
   "source": [
    "### Slur Replacement \n",
    "\n",
    "- Exact Matching\n",
    "- Approximate Matching\n",
    "\n",
    "\n",
    "Slurs occur in the following ways\n",
    " - handle?\n",
    " - keyword\n",
    " - hashtag"
   ]
  },
  {
   "cell_type": "markdown",
   "metadata": {},
   "source": [
    "### Data"
   ]
  },
  {
   "cell_type": "code",
   "execution_count": 74,
   "metadata": {},
   "outputs": [],
   "source": [
    "import warnings\n",
    "\n",
    "warnings.filterwarnings(\"ignore\")"
   ]
  },
  {
   "cell_type": "code",
   "execution_count": 75,
   "metadata": {},
   "outputs": [
    {
     "data": {
      "text/html": [
       "<div>\n",
       "<style scoped>\n",
       "    .dataframe tbody tr th:only-of-type {\n",
       "        vertical-align: middle;\n",
       "    }\n",
       "\n",
       "    .dataframe tbody tr th {\n",
       "        vertical-align: top;\n",
       "    }\n",
       "\n",
       "    .dataframe thead th {\n",
       "        text-align: right;\n",
       "    }\n",
       "</style>\n",
       "<table border=\"1\" class=\"dataframe\">\n",
       "  <thead>\n",
       "    <tr style=\"text-align: right;\">\n",
       "      <th></th>\n",
       "      <th>ID</th>\n",
       "      <th>Repost</th>\n",
       "      <th>Mentions</th>\n",
       "      <th>Timestamp Of Creation</th>\n",
       "      <th>Type</th>\n",
       "      <th>Timestamp Of Scraping</th>\n",
       "      <th>Tweet</th>\n",
       "      <th>Video</th>\n",
       "      <th>Date</th>\n",
       "      <th>Search</th>\n",
       "      <th>...</th>\n",
       "      <th>Source</th>\n",
       "      <th>Likes Count</th>\n",
       "      <th>User Rt ID</th>\n",
       "      <th>Hashtags</th>\n",
       "      <th>Translate</th>\n",
       "      <th>Near</th>\n",
       "      <th>Quote URL</th>\n",
       "      <th>User Rt</th>\n",
       "      <th>Trans Dest</th>\n",
       "      <th>Retweet ID</th>\n",
       "    </tr>\n",
       "  </thead>\n",
       "  <tbody>\n",
       "    <tr>\n",
       "      <th>0</th>\n",
       "      <td>619dbbaade83f8b60cc9ac45</td>\n",
       "      <td>0</td>\n",
       "      <td>[]</td>\n",
       "      <td>2020-11-24 23:25:10 IST</td>\n",
       "      <td>hashtag</td>\n",
       "      <td>20211124094226</td>\n",
       "      <td>Y does police torture in “Custody”. B’cos it c...</td>\n",
       "      <td>0.0</td>\n",
       "      <td>2020-11-24</td>\n",
       "      <td>#RheaChakraborty</td>\n",
       "      <td>...</td>\n",
       "      <td>NaN</td>\n",
       "      <td>2.0</td>\n",
       "      <td>NaN</td>\n",
       "      <td>[\"bhartisingharrested\" \"bhartisingh\" \"bharti\" ...</td>\n",
       "      <td>NaN</td>\n",
       "      <td>NaN</td>\n",
       "      <td>NaN</td>\n",
       "      <td>NaN</td>\n",
       "      <td>NaN</td>\n",
       "      <td>NaN</td>\n",
       "    </tr>\n",
       "    <tr>\n",
       "      <th>1</th>\n",
       "      <td>619dbbaade83f8b60cc9ac46</td>\n",
       "      <td>0</td>\n",
       "      <td>NaN</td>\n",
       "      <td>2020-11-24 22:31:26 IST</td>\n",
       "      <td>hashtag</td>\n",
       "      <td>20211124094226</td>\n",
       "      <td>Proof strangulation mark on Sushant's neck &amp;am...</td>\n",
       "      <td>NaN</td>\n",
       "      <td>NaN</td>\n",
       "      <td>#RheaChakraborty</td>\n",
       "      <td>...</td>\n",
       "      <td>NaN</td>\n",
       "      <td>NaN</td>\n",
       "      <td>NaN</td>\n",
       "      <td>NaN</td>\n",
       "      <td>NaN</td>\n",
       "      <td>NaN</td>\n",
       "      <td>NaN</td>\n",
       "      <td>NaN</td>\n",
       "      <td>NaN</td>\n",
       "      <td>NaN</td>\n",
       "    </tr>\n",
       "    <tr>\n",
       "      <th>2</th>\n",
       "      <td>619dbbaade83f8b60cc9ac47</td>\n",
       "      <td>0</td>\n",
       "      <td>NaN</td>\n",
       "      <td>2020-11-24 21:48:05 IST</td>\n",
       "      <td>hashtag</td>\n",
       "      <td>20211124094226</td>\n",
       "      <td>#RheaChakraborty So many days passed, CBI coul...</td>\n",
       "      <td>NaN</td>\n",
       "      <td>NaN</td>\n",
       "      <td>#RheaChakraborty</td>\n",
       "      <td>...</td>\n",
       "      <td>NaN</td>\n",
       "      <td>NaN</td>\n",
       "      <td>NaN</td>\n",
       "      <td>NaN</td>\n",
       "      <td>NaN</td>\n",
       "      <td>NaN</td>\n",
       "      <td>NaN</td>\n",
       "      <td>NaN</td>\n",
       "      <td>NaN</td>\n",
       "      <td>NaN</td>\n",
       "    </tr>\n",
       "    <tr>\n",
       "      <th>3</th>\n",
       "      <td>619dbbaade83f8b60cc9ac48</td>\n",
       "      <td>0</td>\n",
       "      <td>NaN</td>\n",
       "      <td>2020-11-24 20:20:02 IST</td>\n",
       "      <td>hashtag</td>\n",
       "      <td>20211124094226</td>\n",
       "      <td>How is #RheaChakraborty ??</td>\n",
       "      <td>NaN</td>\n",
       "      <td>NaN</td>\n",
       "      <td>#RheaChakraborty</td>\n",
       "      <td>...</td>\n",
       "      <td>NaN</td>\n",
       "      <td>NaN</td>\n",
       "      <td>NaN</td>\n",
       "      <td>NaN</td>\n",
       "      <td>NaN</td>\n",
       "      <td>NaN</td>\n",
       "      <td>NaN</td>\n",
       "      <td>NaN</td>\n",
       "      <td>NaN</td>\n",
       "      <td>NaN</td>\n",
       "    </tr>\n",
       "    <tr>\n",
       "      <th>4</th>\n",
       "      <td>619dbbaade83f8b60cc9ac49</td>\n",
       "      <td>0</td>\n",
       "      <td>NaN</td>\n",
       "      <td>2020-11-24 18:52:59 IST</td>\n",
       "      <td>hashtag</td>\n",
       "      <td>20211124094226</td>\n",
       "      <td>All members of yuva shiv sena party of the lik...</td>\n",
       "      <td>NaN</td>\n",
       "      <td>NaN</td>\n",
       "      <td>#RheaChakraborty</td>\n",
       "      <td>...</td>\n",
       "      <td>NaN</td>\n",
       "      <td>NaN</td>\n",
       "      <td>NaN</td>\n",
       "      <td>NaN</td>\n",
       "      <td>NaN</td>\n",
       "      <td>NaN</td>\n",
       "      <td>NaN</td>\n",
       "      <td>NaN</td>\n",
       "      <td>NaN</td>\n",
       "      <td>NaN</td>\n",
       "    </tr>\n",
       "  </tbody>\n",
       "</table>\n",
       "<p>5 rows × 40 columns</p>\n",
       "</div>"
      ],
      "text/plain": [
       "                         ID Repost Mentions    Timestamp Of Creation     Type  \\\n",
       "0  619dbbaade83f8b60cc9ac45      0       []  2020-11-24 23:25:10 IST  hashtag   \n",
       "1  619dbbaade83f8b60cc9ac46      0      NaN  2020-11-24 22:31:26 IST  hashtag   \n",
       "2  619dbbaade83f8b60cc9ac47      0      NaN  2020-11-24 21:48:05 IST  hashtag   \n",
       "3  619dbbaade83f8b60cc9ac48      0      NaN  2020-11-24 20:20:02 IST  hashtag   \n",
       "4  619dbbaade83f8b60cc9ac49      0      NaN  2020-11-24 18:52:59 IST  hashtag   \n",
       "\n",
       "   Timestamp Of Scraping                                              Tweet  \\\n",
       "0         20211124094226  Y does police torture in “Custody”. B’cos it c...   \n",
       "1         20211124094226  Proof strangulation mark on Sushant's neck &am...   \n",
       "2         20211124094226  #RheaChakraborty So many days passed, CBI coul...   \n",
       "3         20211124094226                         How is #RheaChakraborty ??   \n",
       "4         20211124094226  All members of yuva shiv sena party of the lik...   \n",
       "\n",
       "   Video        Date            Search  ... Source Likes Count User Rt ID  \\\n",
       "0    0.0  2020-11-24  #RheaChakraborty  ...    NaN         2.0        NaN   \n",
       "1    NaN         NaN  #RheaChakraborty  ...    NaN         NaN        NaN   \n",
       "2    NaN         NaN  #RheaChakraborty  ...    NaN         NaN        NaN   \n",
       "3    NaN         NaN  #RheaChakraborty  ...    NaN         NaN        NaN   \n",
       "4    NaN         NaN  #RheaChakraborty  ...    NaN         NaN        NaN   \n",
       "\n",
       "                                            Hashtags  Translate  Near  \\\n",
       "0  [\"bhartisingharrested\" \"bhartisingh\" \"bharti\" ...        NaN   NaN   \n",
       "1                                                NaN        NaN   NaN   \n",
       "2                                                NaN        NaN   NaN   \n",
       "3                                                NaN        NaN   NaN   \n",
       "4                                                NaN        NaN   NaN   \n",
       "\n",
       "  Quote URL  User Rt Trans Dest Retweet ID  \n",
       "0       NaN      NaN        NaN        NaN  \n",
       "1       NaN      NaN        NaN        NaN  \n",
       "2       NaN      NaN        NaN        NaN  \n",
       "3       NaN      NaN        NaN        NaN  \n",
       "4       NaN      NaN        NaN        NaN  \n",
       "\n",
       "[5 rows x 40 columns]"
      ]
     },
     "execution_count": 75,
     "metadata": {},
     "output_type": "execute_result"
    }
   ],
   "source": [
    "import pandas as pd\n",
    "\n",
    "twitter_data = pd.read_csv('twitter_data_jan6.csv')\n",
    "twitter_data.head()"
   ]
  },
  {
   "cell_type": "code",
   "execution_count": 76,
   "metadata": {},
   "outputs": [
    {
     "data": {
      "text/plain": [
       "(498872, 40)"
      ]
     },
     "execution_count": 76,
     "metadata": {},
     "output_type": "execute_result"
    }
   ],
   "source": [
    "twitter_data.shape"
   ]
  },
  {
   "cell_type": "code",
   "execution_count": 77,
   "metadata": {},
   "outputs": [],
   "source": [
    "slurs_list = list(twitter_data['Search'])"
   ]
  },
  {
   "cell_type": "code",
   "execution_count": 78,
   "metadata": {
    "scrolled": true
   },
   "outputs": [
    {
     "data": {
      "text/plain": [
       "498872"
      ]
     },
     "execution_count": 78,
     "metadata": {},
     "output_type": "execute_result"
    }
   ],
   "source": [
    "len(slurs_list)"
   ]
  },
  {
   "cell_type": "code",
   "execution_count": 79,
   "metadata": {},
   "outputs": [],
   "source": [
    "slurs_set = set(slurs_list)"
   ]
  },
  {
   "cell_type": "code",
   "execution_count": 80,
   "metadata": {},
   "outputs": [
    {
     "data": {
      "text/plain": [
       "430"
      ]
     },
     "execution_count": 80,
     "metadata": {},
     "output_type": "execute_result"
    }
   ],
   "source": [
    "len(slurs_set)"
   ]
  },
  {
   "cell_type": "markdown",
   "metadata": {},
   "source": [
    "#### List of slurs"
   ]
  },
  {
   "cell_type": "code",
   "execution_count": 81,
   "metadata": {
    "scrolled": true
   },
   "outputs": [
    {
     "data": {
      "text/plain": [
       "{'#498A',\n",
       " '#ArrestRanaAyyub',\n",
       " '#BoycottFabIndia',\n",
       " '#DomesticViolence',\n",
       " '#Dowry',\n",
       " '#FalseCases',\n",
       " '#FeministMafia',\n",
       " '#GenderBiasedLaws',\n",
       " '#HiteshaChandranee',\n",
       " '#JusticeForSwapnilPandey',\n",
       " '#Love_Nahi_Jeehad_Hai',\n",
       " '#MenToo',\n",
       " '#MensCommission',\n",
       " '#MensLivesMatter',\n",
       " '#Misandry',\n",
       " '#PotentialLegalTerrorist',\n",
       " '#PussyPower',\n",
       " '#RanaAyyub',\n",
       " '#RandiKutiya',\n",
       " '#RheaChakraborty',\n",
       " '#Rheality_today',\n",
       " '#SCSTAct',\n",
       " '#Sanghans',\n",
       " '#SaveOurSons',\n",
       " '#SpeakUpMen',\n",
       " '#carryminatiroast',\n",
       " '#feministsaretrash',\n",
       " '#justiceforcabdriver',\n",
       " '#lovejihad',\n",
       " '#piddilover',\n",
       " '#pseudohindus',\n",
       " '#reservation',\n",
       " '#reservation_kills_merit',\n",
       " '#save_Hindu_Girls',\n",
       " '#sullideals',\n",
       " '#superstraight',\n",
       " '#womenaretrash',\n",
       " '#छक्का',\n",
       " '#जिहादी_मुक्त_नवरात्रि',\n",
       " '#அத்தை',\n",
       " '#ஓத்த',\n",
       " '#கொம்மா',\n",
       " '#ங்கோத்தா',\n",
       " '#சாமான்',\n",
       " '#பெரியாராவது_மயிராவது',\n",
       " '#பொட்டை',\n",
       " '#முட்டாஉபி',\n",
       " '498a',\n",
       " '@aartichabria',\n",
       " 'ANKIT02021992',\n",
       " 'Abdullah_Bebaak',\n",
       " 'Abhishekkkk10',\n",
       " 'AfreenFatima136',\n",
       " 'Agasthy02423199',\n",
       " 'Amala_ams',\n",
       " 'Amar_ji1',\n",
       " 'Anu_2208',\n",
       " 'AnushkaSharma',\n",
       " 'ArunSingh969621',\n",
       " 'AshifMa42669702',\n",
       " 'AshviniYardi',\n",
       " 'AzadSenaChief',\n",
       " 'BDUTT',\n",
       " 'BJPBalochistan',\n",
       " 'BablieV',\n",
       " 'BharatP36787426',\n",
       " 'Bitch',\n",
       " 'Black Pepper',\n",
       " 'Buddhijivi_',\n",
       " 'Characterless woman',\n",
       " 'Chinese corona',\n",
       " 'Chinmayi',\n",
       " 'DeepikaBhardwaj',\n",
       " 'Deshdrohi Chinese',\n",
       " 'DhivCM',\n",
       " 'Dynast Sycophants',\n",
       " 'ElvishYadav',\n",
       " 'ExSecular',\n",
       " 'FakeCaseWaliBiwi',\n",
       " 'Feminazi',\n",
       " 'Ferrorists',\n",
       " 'FighterMard498A',\n",
       " 'FutureVictm498A',\n",
       " 'GangadharAachar',\n",
       " 'Gasti',\n",
       " 'Happysoul0_0',\n",
       " 'HasibaAmin',\n",
       " 'Hindu_Lgbt',\n",
       " 'IAmGMishra',\n",
       " 'Ijaising',\n",
       " 'Izzlam',\n",
       " 'Janu_Bhaskar_',\n",
       " 'Jersey cow',\n",
       " 'KaffirBaba',\n",
       " 'KapilMishra_IND',\n",
       " 'Katwa',\n",
       " 'KaushalBodwal',\n",
       " 'KingInAsgard',\n",
       " 'KrShishirJha',\n",
       " 'KushaKapila',\n",
       " 'LambaAlka',\n",
       " 'LavanyaBallal',\n",
       " 'LeenaManimekali',\n",
       " 'Lordvaasudev',\n",
       " 'MahuaMoitra',\n",
       " 'MamataOfficial',\n",
       " 'Marwadi99',\n",
       " 'Mayawati',\n",
       " 'MehreenFaruqi',\n",
       " 'MenOfManu',\n",
       " 'MiraPagliNair',\n",
       " 'MisogynistLad',\n",
       " 'Muzlim',\n",
       " 'MynationPm',\n",
       " 'NRIwith',\n",
       " 'Nidhi',\n",
       " 'NitashaKaul',\n",
       " 'Pak agents',\n",
       " 'PoojaB1972',\n",
       " 'Presstitutes',\n",
       " 'QueenAT18AT',\n",
       " 'R@ndi',\n",
       " 'RAP_RakhiSawant',\n",
       " 'RajeevBubun',\n",
       " 'RameshKanakhar1',\n",
       " 'RanaAyyub',\n",
       " 'Rape/R@pe/R@p3',\n",
       " 'ReallySwara',\n",
       " 'Rice bags',\n",
       " 'RichaChadha',\n",
       " 'Riythvika',\n",
       " 'Rustic_Bhayuu',\n",
       " 'SafooraZargar',\n",
       " 'Samriti57911095',\n",
       " 'Sanghans',\n",
       " 'Scumreds',\n",
       " 'Seema95391554',\n",
       " 'SethShruti',\n",
       " 'ShefVaidya',\n",
       " 'ShoneeKapoor',\n",
       " 'Sissy',\n",
       " 'SrishtyRanjan',\n",
       " 'Sunflowerண்டை',\n",
       " 'Sunflowerண்டை_emoji',\n",
       " 'SushilK05374441',\n",
       " 'Tanweer_jabbar',\n",
       " 'Toilet + saaf',\n",
       " 'Tweet2Rhea',\n",
       " 'UnSubtleDesi',\n",
       " 'Urban_Chanakya',\n",
       " 'Vibrator_009',\n",
       " 'Victim_card',\n",
       " 'Vikasteotia',\n",
       " 'Vipinrocker',\n",
       " 'Vqueeram',\n",
       " 'YashicaDutt',\n",
       " 'YearOfTheKraken',\n",
       " 'YogenderGaur1',\n",
       " 'Zaffar_Nama',\n",
       " 'Zuniee3',\n",
       " '_Priyansha__',\n",
       " '_SUMI_Twitz_',\n",
       " '_sabanaqvi',\n",
       " '_sayema',\n",
       " 'abhi18389',\n",
       " 'ammijaan_',\n",
       " 'anti national tukde',\n",
       " 'anticastecat',\n",
       " 'arrestlucknowgirl',\n",
       " 'atrocity_act',\n",
       " 'awryaditi',\n",
       " 'azhagi_',\n",
       " 'bainjal',\n",
       " 'bimbo',\n",
       " 'bprerna',\n",
       " 'bullo_ka_abbu',\n",
       " 'burnol',\n",
       " 'buzlim',\n",
       " 'chinky',\n",
       " 'chrislamocommies',\n",
       " 'cong_ka_damad',\n",
       " 'cynstepin',\n",
       " 'dented-painted',\n",
       " 'dildiya__140',\n",
       " 'dolphinsnodoll',\n",
       " 'dull-it',\n",
       " 'faggot',\n",
       " 'hkpontwitty',\n",
       " 'iamariakhan',\n",
       " 'idhivyasrivasan',\n",
       " 'jagishaarora',\n",
       " 'kaalnemi9',\n",
       " 'kamaalrkhan',\n",
       " 'kavita_krishnan',\n",
       " 'khalsa_iyer',\n",
       " 'khanumarfa',\n",
       " 'kirubamunusamy',\n",
       " 'kumarikumari333',\n",
       " 'ladeedafarzana',\n",
       " 'liberal',\n",
       " 'libtard',\n",
       " 'love jihad',\n",
       " 'ma ki chui',\n",
       " 'madhukishwar',\n",
       " 'medhanarmada',\n",
       " 'meenakandasamy',\n",
       " 'mehartweets',\n",
       " 'minimathur',\n",
       " 'naachne waali',\n",
       " 'nanditadas',\n",
       " 'nationalists',\n",
       " 'neetimohan18',\n",
       " 'ola u uber',\n",
       " 'paro_nair',\n",
       " 'parvatweets',\n",
       " 'pheminist',\n",
       " 'pissfull',\n",
       " 'priyamani6',\n",
       " 'priyankagandhi',\n",
       " 'pseudohindus',\n",
       " 'rajakumaari',\n",
       " 'rohini_sgh',\n",
       " 'rssmvrma',\n",
       " 'sagarikaghose',\n",
       " 'salonayy',\n",
       " 'salonayyy',\n",
       " 'samlaingik',\n",
       " 'sanasaeed17',\n",
       " 'sanatani_india',\n",
       " 'sanjukta',\n",
       " 'sansbarrier',\n",
       " 'sarmad50992984',\n",
       " 'sasira1683',\n",
       " 'sassy_sanskari',\n",
       " 'sc0undrel',\n",
       " 'scumbags',\n",
       " 'secular',\n",
       " 'seemagoswami',\n",
       " 'sekoolar',\n",
       " 'shahcastic',\n",
       " 'shamli_wale',\n",
       " 'shaziailmi',\n",
       " 'sickular',\n",
       " 'srabantismile',\n",
       " 'tablighi_mian',\n",
       " 'talesofBharat',\n",
       " 'taslimanasreen',\n",
       " 'theskindoctor13',\n",
       " 'thirunangai',\n",
       " 'toilet saaf',\n",
       " 'toxic aunty',\n",
       " 'tritirade',\n",
       " 'utterlyChurni',\n",
       " 'vipul2777',\n",
       " 'vishakhasingh55',\n",
       " 'whore',\n",
       " 'zareen_khan',\n",
       " 'आंटी',\n",
       " 'आतंकवादी',\n",
       " 'कंजर',\n",
       " 'कचरा',\n",
       " 'कटा लुंड',\n",
       " 'कमीनी',\n",
       " 'कलमुंही',\n",
       " 'कसाई',\n",
       " 'काम_वाली_बाई',\n",
       " 'काला टेंट',\n",
       " 'काली कलूटी',\n",
       " 'काले तवे',\n",
       " 'किन्नर',\n",
       " 'कुतिया',\n",
       " 'कुत्ती',\n",
       " 'कुल्टा',\n",
       " 'गटर पैदाइश',\n",
       " 'गणिका',\n",
       " 'गद्दार',\n",
       " 'गधी',\n",
       " 'गांड',\n",
       " 'घटिया औरत',\n",
       " 'चंडाल',\n",
       " 'चंडाल_चौकड़ी',\n",
       " 'चमचा',\n",
       " 'चमार',\n",
       " 'चरित्रहीन',\n",
       " 'चाटुकार',\n",
       " 'चालू औरत',\n",
       " 'चुदाई',\n",
       " 'चुसल्मान',\n",
       " 'चुस्लामि',\n",
       " 'चुस्लिम',\n",
       " 'चूची',\n",
       " 'चूस',\n",
       " 'चूड़ा',\n",
       " 'छिनाल',\n",
       " 'छुतीये',\n",
       " 'जंगली',\n",
       " 'जली',\n",
       " 'जा नाली साफ़ करके आ',\n",
       " 'जाहिल_औरत',\n",
       " 'जिहादी',\n",
       " 'जूता खायेगी',\n",
       " 'जोरू का गुलाम',\n",
       " 'झूठी औरत',\n",
       " 'टट्टी',\n",
       " 'तवाइफ़',\n",
       " 'दलाल',\n",
       " 'देहातन',\n",
       " 'देहाती औरत',\n",
       " 'दो कौड़ी की औरत',\n",
       " 'दोगली',\n",
       " 'धोबी',\n",
       " 'नंगी_पुंगी',\n",
       " 'नल्ली',\n",
       " 'नाजायज़',\n",
       " 'नाल',\n",
       " 'पनौती',\n",
       " 'पागल औरत',\n",
       " 'पिछवाड़ा',\n",
       " 'पेल',\n",
       " 'पैर की जूती',\n",
       " 'पॉटी',\n",
       " 'फेमिनिजम',\n",
       " 'बत्तमीज़',\n",
       " 'बदसूरत',\n",
       " 'बलात्कार',\n",
       " 'बहन की लोड़ी',\n",
       " 'बहन चोद',\n",
       " 'बहनजी',\n",
       " 'बाज़ारू औरत',\n",
       " 'बीबी',\n",
       " 'बुरखा धत्त',\n",
       " 'बुरखे वाली',\n",
       " 'बुल्ली',\n",
       " 'बेहूदा औरत',\n",
       " 'बैल बुद्धि',\n",
       " 'भंगी',\n",
       " 'भद्दी औरत',\n",
       " 'भांड',\n",
       " 'भांड औरत',\n",
       " 'भारत तेरे टुकड़े गैंग',\n",
       " 'भाड़े का टट्टू',\n",
       " 'भूतनी के',\n",
       " 'भोंकना',\n",
       " 'भोसड़ीwala',\n",
       " 'भोस्डीके',\n",
       " 'भड़वा',\n",
       " 'मर क्यों नहीं जाती',\n",
       " 'महार',\n",
       " 'मा के भोसड़े',\n",
       " 'मादरचोद',\n",
       " 'मादरजात',\n",
       " 'मुँह मैं ले',\n",
       " 'मुजरा',\n",
       " 'मुलिया',\n",
       " 'मूत',\n",
       " 'मेडम जी',\n",
       " 'मोटी भैंस',\n",
       " 'म्लेच्छा',\n",
       " 'रंडी',\n",
       " 'रंडीखाना',\n",
       " 'रण्डी',\n",
       " 'रण्डी रोना',\n",
       " 'रांड',\n",
       " 'लानती',\n",
       " 'लिब्राण्डू',\n",
       " 'लुल्ली',\n",
       " 'लेस्बियन',\n",
       " 'लोड़ू',\n",
       " 'लौड़ा',\n",
       " 'लौड़े',\n",
       " 'विक्टिम कार्ड',\n",
       " 'शरिया',\n",
       " 'साली',\n",
       " 'सुल्ली',\n",
       " 'सूअर',\n",
       " 'सूअर की औलाद',\n",
       " 'सौ टका टंच माल',\n",
       " 'स्कर्ट वाली बाई',\n",
       " 'हगना',\n",
       " 'हबशी',\n",
       " 'हरामजादी',\n",
       " 'हरामी',\n",
       " 'हलाला',\n",
       " 'हिजरा',\n",
       " 'हिज़रापंती',\n",
       " 'हिजड़ा',\n",
       " 'हिलाओगी',\n",
       " 'ख़ुसरा',\n",
       " 'அத்தை',\n",
       " 'அரவாணி',\n",
       " 'அலி',\n",
       " 'ஆட்டக்காரி',\n",
       " 'ஊம்பு',\n",
       " 'ஊர் மேய்றது',\n",
       " 'ஐட்டம்/அயிட்டம்',\n",
       " 'ஒன்பது',\n",
       " 'ஓக்க',\n",
       " 'கல்லு',\n",
       " 'கூFire',\n",
       " 'கூதி',\n",
       " 'கோத்தா',\n",
       " 'கோழி',\n",
       " 'ங்கோத்தா',\n",
       " 'சாமான்',\n",
       " 'சூத்தடி',\n",
       " 'சூத்து',\n",
       " 'டிகி',\n",
       " 'தாயோளி',\n",
       " 'தேவடியா பசங்களா',\n",
       " 'தேவடியா_மவன்',\n",
       " 'தேவிடியா புண்ட',\n",
       " 'தேவிடியாளுக்கு பொறந்தவன்',\n",
       " 'தேவ்டியா',\n",
       " 'தேவ்டியா பையா',\n",
       " 'பறத்தாயோலி',\n",
       " 'புண்ட',\n",
       " 'புண்டை',\n",
       " 'பொட்டை',\n",
       " 'பொட்டை நாய்',\n",
       " 'பொதுச் சொத்து',\n",
       " 'பொன்ஸ்',\n",
       " 'பொம்பள பொருக்கி',\n",
       " 'மாங்கா',\n",
       " 'முலை',\n",
       " 'லூசு',\n",
       " 'லூசு கூ',\n",
       " 'லெஸ்பியன்',\n",
       " 'வேச',\n",
       " 'வேசை',\n",
       " '🍑'}"
      ]
     },
     "execution_count": 81,
     "metadata": {},
     "output_type": "execute_result"
    }
   ],
   "source": [
    "slurs_set"
   ]
  },
  {
   "cell_type": "code",
   "execution_count": 119,
   "metadata": {},
   "outputs": [],
   "source": [
    "rape_tweets = list(twitter_data[twitter_data['Search']=='Rape/R@pe/R@p3']['Tweet'])"
   ]
  },
  {
   "cell_type": "code",
   "execution_count": 121,
   "metadata": {},
   "outputs": [
    {
     "data": {
      "text/plain": [
       "['When people post potentially triggering content, why don’t they write the word out and instead choose to ‘censor’ it? Coz we mute words like “rape” and then tweets still pop up with “r*pe” or “r@p3” or “r/pe” or a dozen other variations. It’s very... 🥴🤧',\n",
       " 'like stop typing rape as r@p3 or r*pe or anything like that bc then someone who had rape blacklisted could still get it on the tl and inadvertently be triggered   just at the top of tweet: tw // rape   easy.',\n",
       " 'The guy that tried to rape me when I was 17 died a couple days.   Hm. Sad.',\n",
       " 'During the day, RSS terrorists kidnap and rape underage girls and then either kill them after the rape or release them alive.  This is the true face of India. #IndiaIsNotSafeforWomen #Pakistanissafeforwomen  @UN  @UNHumanRights',\n",
       " '@IYC 😂😂😂 tmhri shayari same waise h jaisi pappu ko batein...ek rape peedit ladki k maa baap ka chehra dikhana tum galat nhi mante pr lecture pelna h har topic pr',\n",
       " '@estherk_k I sometimes wonder if it is just Twitter, but then I remember statues really are falling, gravestones being desecrated, books rewritten or banned, shows and movies censored or ditched, woman-only jobs given to men in dresses, rape crisis centres taken over by TRA misogynists...',\n",
       " '@amyalkon @CHSommers This guy didn\\'t need rape to have more than 50 children and half a dozen wives. He just have to ask the maiden for a ride on his horse, and some of them will offer their bodies as a \"horse\", hahahaha',\n",
       " \"@PatrickChristys Yes but he didn't ask to be exempted from the law did he? Or rape anybody...because the Royals you care about dot dot dot\",\n",
       " '@LocalMalaysian @sn0flak @MalangKhostay Why is rape of young boys the most common thing between Muslim countries?',\n",
       " \"@Scarlet55525651 @MercShefali @Ahsan05734734 @khanumarfa Yeah, that's what I said. A country in which majority of people worship goddesses has the most problems involving women like rape, female foeticide, murder for dowry etc. Ironic, isn't it?\"]"
      ]
     },
     "execution_count": 121,
     "metadata": {},
     "output_type": "execute_result"
    }
   ],
   "source": [
    "rape_tweets[:10]"
   ]
  },
  {
   "cell_type": "markdown",
   "metadata": {},
   "source": [
    "#### 50 Random Tweets in English"
   ]
  },
  {
   "cell_type": "code",
   "execution_count": 82,
   "metadata": {},
   "outputs": [],
   "source": [
    "lang_data = twitter_data.groupby(['Language'])"
   ]
  },
  {
   "cell_type": "code",
   "execution_count": 83,
   "metadata": {},
   "outputs": [],
   "source": [
    "en_data = lang_data.get_group('en')"
   ]
  },
  {
   "cell_type": "code",
   "execution_count": 84,
   "metadata": {},
   "outputs": [],
   "source": [
    "random_en_tweets = list(en_data['Tweet'].sample(frac=0.001))"
   ]
  },
  {
   "cell_type": "code",
   "execution_count": 85,
   "metadata": {
    "scrolled": true
   },
   "outputs": [
    {
     "data": {
      "text/plain": [
       "['‘Any American who wants to come home’ so generous!!',\n",
       " '@taslimanasreen But women r excelling in every field',\n",
       " 'Reception at Moulana Azad Urdu University. We will continue the fight together with all the universities. Insha allah !  #CAA_NRC_Protest #CAA #NRC  https://t.co/aZqirrvjBD',\n",
       " '@sagarikaghose @BJP4India @Twitter @TwitterIndia Idiot... Its not about opposition.. Its about fake news.. Whosoever is spreading fake news should be stopped... Simple  Unless you support fake news and riots 😉',\n",
       " '@writter_vambu He was also a pedophile rapist according to some documents',\n",
       " 'Good ! Then your bapu won without election',\n",
       " \"@Saracasmatic @ZeeMohamed_ @ShekharGupta @narendramodi As far discriminatory policy is concerned Supreme Court is alive in India, so that won't be easy.  I m talking about general perception that has been created that, That there is love jihad, corona jihad, population jihad, UPSC Jihad.   As a popular leader Mr Modi must ensure fear\",\n",
       " '@srabantismile @the You are very beautiful Your beauty cannot be compared.',\n",
       " \"love trying out cute clothes and feel hella cute but then reality hits you that you is a broke bitch and can't afford it :)\",\n",
       " 'Dr Faisal Sultan, explained about Chinese  Corona virus vaccine that it is not recommended for pregnant women, and people aged above 60 or below 18. #coronavirus #CovidVaccineForPakistan #Pakistan #ChinaVirus #CoronaVaccine  @PTIofficial @faisalsultan @Dr_YasminRashid  https://t.co/D4z1fyOPDs',\n",
       " '@Your_Levodopa She is pheminist.',\n",
       " '@paro_nair Who are you and how did you get blue tick?',\n",
       " '@bronx_bull By any chance ur native is Palamadai near Nellai, the birthplace of Neelakanda Dikshithar?',\n",
       " '@BDUTT @washingtonpost Appreciate your attention towards the people who are alive and need help to be saved from being murdered....Please   https://t.co/czfnGWcpdc',\n",
       " 'Ada Ehi speaks about Nigerian gospel, secular music, Alaba, Sinach, Hillsong and more\\xa0[Interview]  https://t.co/lRGadbOt5q',\n",
       " 'The entitlement and abuse of Dalit women’s bodies, when they are hastily disposed/burned doesn’t just happen in small towns.  This is Model Town in Delhi. One of closest neighborhoods to Delhi University.   How urban does it have to be for you to believe that caste exists?',\n",
       " '@parvatweets Nice',\n",
       " '‘State in denial, admin lied about no complaints being filed, prima facie evidence of violence’: Everything Calcutta HC said on Bengal post-poll violence   https://t.co/yueG9DQXVc',\n",
       " \"@jubbajai Nah, but just did, it's very cool, thanks 👍🏾🌻\",\n",
       " '@rohini_sgh But its smelling on other side. Need burnol chap? 😂🤣😂🤣',\n",
       " '#JayaSaha has named filmmaker #MadhuMantena in relation to the drugs angle probed by the #NCB #sushantsinghrajput #rheachakraborty  https://t.co/0rUjpc6n6a',\n",
       " \"Don't know much about Sri Lankan politics or why this woman, Ms Hirunika Premachandra was targeted. But her speech in their Parliament sounds awesome.\",\n",
       " 'Congress - RSS and Boko haram and ISIS are same  BJP - thanks @salman7khurshid',\n",
       " '@salonayyy The oppression and suferings of minorities is a source of comical content for the shameless bigots.',\n",
       " 'Please see.. Need lead.. Patient anyhow need remdesivir today.',\n",
       " 'yes, i drink mug root beer, does that hurt your feelings you liberal  https://t.co/xyBdqebqY9',\n",
       " 'According to holy book Quran, chapter no 69, paragraph 2.0, page 786, it is clearly mentioned during Ramzan fast No water, No medical oxygen can be inhale, otherwise Almighty ollah will not forgive whomsoever Mu$lim do this : Dr Zakir Naik  https://t.co/35F7ahwRNy',\n",
       " 'Police stood as mute spectators while the Hindu crowd shouted slogans against Muslims. When Muslims in the area protested, messages began circulating asking Hindus to unite and retaliate. One such message asked  “descendants of Aurangzeb”\\xa0to be taught a lesson for stopping',\n",
       " '@MadhumitaDash11 Thank you',\n",
       " '@bainjal Media is so powerful it implanted Modi ji was a tea seller on the platform which never existed. He spins media helps spread the spin as truth.',\n",
       " '\"Bihar police has no jurisdiction to transfer case to CBI, case pending in Supreme Court\": #RheaChakraborty\\'s lawyers issue statement   https://t.co/e2KSAQndGo',\n",
       " 'same people whos flash go off for their notifications be the ones who order fajitas... attention whores',\n",
       " '@BDUTT @risj_oxford Many congratulations... Proud moment... Best wishes Barkha 💐💐',\n",
       " \"Stories like these are heartbreaking &amp; far too common. The only way to address a public housing shortage is to build more houses (not back a certain conservative government's negative gearing policies!). We need more high-quality &amp; affordable houses, now.  https://t.co/dIqfFBCRLu\",\n",
       " '@taslimanasreen Same gotra marriages is absolutely no no amongst Hindu Bengalis, ofcourse what ever limited I have personally seen',\n",
       " '@aintyourdania No at all 😂 you should be granted what you need 😂',\n",
       " \"@salonayy they could have tried but the audience wouldn't have budged 😅\",\n",
       " '@INCIndia Cong Hai chor,lootera, docoit and deshdrohi chinese Agent',\n",
       " '@_sabanaqvi Now migration is the only option',\n",
       " '@SethShruti which country do you hate?',\n",
       " 'The #genderbiasedlaws are devise of evil and demonic possessed psyche as it destroys families and kills innocent victims #fakefeminism #FakeCases on Men #FeminismIsCoronaVirus #Feminism is worst then #Covid_19 #DomesticViolenceOnMen @PMOIndia @HMOIndia @MinistryWCD @rsprasad.  https://t.co/MyrnV2bpZ6',\n",
       " '@mMowzrOJhNhHx0d someone senior who knows how to loot without getting caught.',\n",
       " '@om_kuri Eng subs',\n",
       " '@sagarikaghose 1947: JP Kriplani was INC president. 2021: No working President. But defacto President are out on bail. Quite a fall, no?',\n",
       " '@mariakhantoi @drunkJournalist Modi After selling his very being to the croony capitalist now selling the farmers of the land. #ModiDontSellFarmers',\n",
       " \"@zareen_khan I'm waiting ❤️❤️❤️❤️\",\n",
       " '#RohitSharma Go and vote for the legend',\n",
       " '@kavita_krishnan @BabaGlocal @SidrahDP They made you swallow your words and rubbed your nose in mud , they cant accept tiny finger pointing their way , and you thought your heart full of hindu hatred would shield you from their hate 😂😂 ohh poor dumb kafir',\n",
       " '@khanumarfa I think, The so called Gupkar gang has endorsed the central government decisions on JK by attending the meeting with centre. They are just leaders for name sake and has not been connected with the people of JK.',\n",
       " '@malini_aisola @kv_navya @DrBeelaIAS @CMOTamilNadu @arunbothra @kv_navya Please send more details.',\n",
       " '(Thread).  Coming in very late to the #ReclaimHerName debate with some of my thoughts on pseudonyms. Back story for those waking up late.  https://t.co/IFb5u7UZaK',\n",
       " '@RichaChadha Pm Care find which has unaccounted money needs to be used and disposed off',\n",
       " 'Maadathy is arriving on your own screens, own it.   I am weeping in gratitude @parvatweets . Thanks for being who you are❤️  @MaadathyTheFilm  @karuvachyfilms  @GRfilmssg  @bhavanagoparaju  @AbinandhanR  https://t.co/y4BDrfkDab',\n",
       " \"@TagVishal @AamAadmiParty @ArvindKejriwal @LambaAlka Ummm... No, I didn't misunderstand. You are mansplaining. I understood his tweets just fine. Patronising in the extreme.\",\n",
       " '@MahuaMoitra @svaradarajan And the same cops and govt have not yet filed report since 1918 about the 34  childcare homes in that state. They could be POCSO cases.  https://t.co/6zeo02t1Sq',\n",
       " '@pradip103 We Need #HinduRashtra',\n",
       " 'Meeting with  very down to earth lady @smritiirani ji🙏🏻. Full of energy and humorous mind  https://t.co/Zi7QVFB5qK',\n",
       " '@sarvopri @RanaAyyub Why do you assume I am only speaking about Muslims? Christians have also been abused by ‘nationalists’',\n",
       " '@jk_ojha_kakrai @aslicovidvirus @digvijaya_28 @JVSinghINC @OfficeOfKNath @jitupatwari @VikrantBhuria @pcsharmainc @sajjanvermaINC Ye September ka case hai vo bhi love jihad ka',\n",
       " 'In light of recent backlash against teaching accurate history, I offer a comment from @DalaiLama Teaching the truth about #racism #genocide #IndigenousPeoples  #LGBTQ #GenderBiasedLaws &amp; #misogyny in the U.S. would help to foster peace and non-violence. Stop banning books and CRT',\n",
       " \"Hoping everyone's staying safe (and sane) at home. It's important to take precautions to stop the spread of infectious diseases.Learning a lot about COVID and Tuberculosis. Join me on FB live chat as I share some info this World TB Day (24 March 2020). Stay tuned! @WHO @sukritic1\",\n",
       " \"@koul_ankush @Yaduveer_21 @DarRahil -Not celebrating loss. -That's not national team. They are under autonomous body (bcci) so cut that part. -Portugese were colonialists. -Nobody even casually mentioned kohli, rahul, sharma as pak agents except #Shami who was specifically targeted.\",\n",
       " '@Alex48249485 @CNNAfrica @POTUS @au_ps Fight against terrorists? You mean when #Ethiopia was peaceful under TPLF ? When they had a strong &amp; sincere international diplomacy? A sovereign country doesnt invite a foriegn country to loot, rape cause distruction &amp; massacre its own region #TigrayGenocide #AxumMassacre #',\n",
       " \"@HasibaAmin Why aren't we talking about this?  https://t.co/17ICz0jyap\",\n",
       " '#Thankyou men_right_fight   https://t.co/MN1VC3u2SB   for following us!  #visit our #Facebook  https://t.co/0JCJCGbXly   visit website  https://t.co/LPTBuXm8M9    #Dowry #498a #FakeCases increasing #PurushAayog #MensCommission required #MensRights are #HumanRights  protect #Fat…',\n",
       " '@Mayawati Madam why you taken that much time to respond on this ??',\n",
       " 'Very urgent   Sister of a Lt. Col is unable to find a Ventilator bed in Gurgaon/Delhi:-  Name Anju Sharma GENDER.  : Female AGE. : 39 Years  Covid 19 Test :  Positive  Oxygen  Levels : 62  Phone No 880071110 Pls see @GoldyBhardwaj7  #HESvsCorona',\n",
       " 'Quick tip: Use rice bags as #DIY weights for home workouts! More more such hacks and tips, visit our blogs on the website  https://t.co/AyzvHEr5ZK! #rbtlife #weightloss #health  https://t.co/ym15SxwLKL',\n",
       " '@IJaising Superb',\n",
       " '@sanjukta @zoo_bear @RahulGandhi More power to you, Sanjukta! You exposed a fake news peddler!! Great going, Sanjukta!!! Keep exposing them!!!!',\n",
       " 'Thread on Buzlim Aliens   1]  https://t.co/xN3tdnT7WH',\n",
       " '@rohini_sgh Yadav sahab looking a bit different.',\n",
       " '@WomanHindu @Bhattavakya @ajayacharya @raghuprajju @Violet_Texts @maisooru @RitambaraPrajna @KumaraVaani  You need to see this 🙏',\n",
       " '@MadisaKedi @MosiaTdo @JuniorMkhonto No. #WomenAreTrash and you are part of the problem by excluding yourself',\n",
       " 'If people had to vote on pollution Aap would be the last party they would vote!As per the RTI reply the Delhi Govt collected green tax of 1174.67 crores since 2015, only 272.51 cr have been spent.Out of this,265 cr were spent on the orders of SC. Ad propaganda is not reality.',\n",
       " '@foe_destroyer @biharigurl @proudsanghii @MadhuCh11933439 @HoneyTi1994 @ShuchiRecites @Victim_Card_ @ayushi_chem Beat of luck ✋🤚🏻 forever♾️  https://t.co/q2J4kkZNnh',\n",
       " \"@LavanyaBallal Why are you surprised it was adequate by non Educationist. When I fought against it on open forum I was shoved down. BJP doesn't think women can form policies. And hypocrisy is that we sympathise with women outside country #NEP2020\",\n",
       " 'This #poem of mine in the beautiful #Witness: Red River Anthology of #Dissent..  https://t.co/aLRbcTZslk',\n",
       " 'Exactly  https://t.co/aRP7ykb9OQ',\n",
       " '@NeoResurgemus Toker daal is generally made with these two only. Nvr seen it with chholar daal.',\n",
       " \"feminists are right that deodorant and shaving are psyops and they're also right that all sex is r*pe and that all relationships have power imbalances. really, the only thing feminists are wrong about is that they think women have inherent worth beyond babymaking\",\n",
       " '@RanaAyyub @ReallySwara @_sabanaqvi @khanumarfa   And few Indian worms crack jokes on it',\n",
       " \"So excited to be able to invite you all to this event! I'll be joined by @timsout, a well-known thinker, writer and Australia’s former Race Discrimination Commissioner, for an online conversation on what to make of the world today while keeping hope alive.  https://t.co/cPXRQnxxdX  https://t.co/9WQLnHS7eB\",\n",
       " \"@BDUTT @oratorgreat @themojo_in What's exactly  problematic here, specifically if it is some local once in a time event ?Just because we are in India we should not have teams that would identify a caste ? Oh wait we can have caste based picnic, meetings , voting, politics, bollywood cricket tournament\",\n",
       " '@bprerna Simply unbelievable!  https://t.co/vYEL2lFWfd',\n",
       " 'Im here for the doxing of questionable teachers and their fucked up views on the r@p3 joke case. Rajin ni p fb, reporting all their asses. Keep em coming',\n",
       " '@seemagoswami Odd number vehicle can go out?',\n",
       " 'A slap on the face of sickular Hindus of Kerala who voted for  congis and commis  @chennithala @vdsatheesan',\n",
       " '@sagarikaghose Funding for conversion is verboten.',\n",
       " '@IJaising All leftists liberals are sinking',\n",
       " 'Breakfast on the go. Sorry @abhisar_sharma, I had a moment of weakness (again) and ate two idlis and broke our no carbs pact temporarily! I will allow you to have a toast in return today.  https://t.co/nDqrB3QpSm',\n",
       " '@queenofthetriII Weird ass bitch like wtf?',\n",
       " \"Vaccine is optional, not compulsory. Don't like it? Don't trust it? Then just don't take it na. Who's forcing you?  Why do this fascism, capitalism, socialism, patriarchy, misogyny, choice, post truth, gender (skoda) laura lehsun howling on every issue? It's getting boring now.\",\n",
       " '@MahuaMoitra come to Congress.Will Project you as Cm candidate for WB.',\n",
       " \"@jilleeuhn It's just like...bad people making bad decisions and i just cannot with the alcoholic r*p3 culture. I would rather slowly lower myself, eyeball first, onto a pencil.\",\n",
       " 'I’m sick of this country',\n",
       " 'Off yourself white bitch — 1/2 of my messages are like this and the other 1/2 are horny, makes u think 🤔  https://t.co/XeKjSt23bQ',\n",
       " '@vishakhasingh55 @WazirXNFT @sandeshsuvarna @Karankalra_art @Yashika__Kalra @kunalkamble @soulcurryart @Winbcblog1 @warijit @westaking_io @AkMalavika Thank you 😊',\n",
       " 'Horrible ecosystem. If we tag any of our complaints to @PIB_India, they are never addressed.  Jehadis have hijacked these important handles.  Our ministers are more interested to showcase their personal photo-ops.  Official SM handles are controlled by #Chrislamocommies  https://t.co/A4wlJvRB2I',\n",
       " '@Nidhi Health of children is important...  End of Discussion here',\n",
       " '@Aatma_the_soul Congrats !',\n",
       " 'love how roman reigns looks just like my dad in his prime but less chinky more polynesian',\n",
       " '@RiseofBurnol @INCMP What is the future if Ola - u - Uber in India. Their population is a  massive threat to this country',\n",
       " 'Link here  https://t.co/iyn00CHuLq',\n",
       " \"Who plants bombs in the Southern Cameroons' towns? @PR_Paul_BIYA's military &amp; administrators have started a new game of planting fake bombs in gabarge bins in towns. Kumba, Victoria &amp; Bamenda discoveries. Why does the bombs wrapped in rice bags not explode, the population asks?\",\n",
       " '...Where you were born, what your name is, what religion your parents were, which institutional education branded you etcetera, are vital clues to privilege or the lack of it, but they are not linear explanans for what your political stance may be...',\n",
       " \"@BDUTT @Chikisarkar Wow! Many congratulations. I'm sure the book based on your exceptional COVID reportage will be insightful. Look forward to reading it.\",\n",
       " '@devduttmyth @PankhaAamir Just like uh!!!',\n",
       " '@MeghBulletin Chalo theek hai.   They’ve drawn first blood.   Ab ek taraf se saare naam badal do.   Rid the country of the Gandhi name at every street corner.   Start with airports and monuments named after Sanjay and Rajiv',\n",
       " '#RheaChakraborty  She should be in jail and on remand. She is the main reason behind SSR death. She knows everything and hiding truth from police. We want CBI enquiry on his case. We want justice for #SushantSinghRajput #JusticeForSushantSinghRajput   https://t.co/ncOAuWQU09',\n",
       " \"Sorry, this is a false notion of patriotism. True patriotism requires Indians to demand that AT LEAST DURING TRUMP'S VISIT, the world stop looking away from India's disintegrating democracy, &amp; the unfolding state sponsored pogrom in Muslim working class localities in Delhi.\",\n",
       " 'Very interesting! I know all our ritual are scientific. I always try to find those logics today cane to know new things. Keep sharing knowledge.',\n",
       " 'Today is the 65th death anniversary of Manto, a man, a writer, an idea that symbolises truth, courage and free spirit. As he said, “it is possible that Saadat Hasan dies, but Manto will live on.” And he does. Every single day his relevance only grows.',\n",
       " \"@Arrjunaa @ANI Hoti hai. He also knows that we know that he is an a-whole. Yet he do all this nautanki and rub it in our face because he knows that he can't be dislodged from Delhi due of his socialist freebies schemes. He enjoys his cunningness and our inability to expose him to his voters.\",\n",
       " \"@johnstanly I'd also like any article being sent that  explains why Iran got so badly impacted. The China to Iran contact point.\",\n",
       " \"@rohini_sgh @arvindgunasekar It's definitely not 'open' media platform\",\n",
       " 'What is important that how @BJP4India gonna deal with it. Deal with rogues like a rogue. That is the language this filthy #AntiHindu sickular @ArvindKejriwal understands. Luckily, @myogiadityanath knows how to deal with anarchist.@SimplyJaya4 @goyalsanjeev @kanimozhi @Neera_26',\n",
       " '@LavanyaBallal @PiyushGoyal Hello @PiyushGoyal sir, please confirm.',\n",
       " 'The only slur I really used to use [before I knew it was a slur] was “chinky-eyed” and  that’s because it used to be a compliment.  I had never made the connection between... well.. yea',\n",
       " \"Ram Mandir got built because hundreds and thousands of Kar Sevaks risked their lives and brought down the disputed structure that stood at the sacred site, fulfilling the will of Shri Rama Himself. There's no two ways about it and credit should go to none else.\",\n",
       " '@punjabi_banda @RajSharma1857 @Profdilipmandal sikhs this and sikhs that why you so obsessed with sikhs you are danger to public you shud be in jail saala',\n",
       " 'BJP MP Ravi Kishan used weed for longest period: Anurag Kashyap @anuragkashyap72,@ravikishann,@Tweet2Rhea #AnuragKashyap #RaviKishan #NarcoticsControlBureau #drugscase #RheaChakraborty #JayaBachchan #mumbai  https://t.co/ONaxxlTVVj',\n",
       " '@sharma_Deepak45 @JainPayal12 @sulata_ghosh @pahuch @jaiSanatan_ @Itishree001 @Jayatu_Sanatan @DeepaShreeAB @SeemaAirForce @DrBpatel Thanks 🙏🏻 😊',\n",
       " '@Parashar108 @Grimmzov The officer name is Shailesh Kumar yadav',\n",
       " '@_sabanaqvi Raid media is better than paid media.  Frustration of loosing some regular income #JustSaying',\n",
       " '@MahuaMoitra Mam communist and sickular done everything to create hate against religion but Still in every house in rural Bangla 3 most scared places... Kashi , Ayodhya and Virndavan. Ram , Krishna and Shiva . Visit Rural Bengal mam..',\n",
       " '@rose_k01 These are SICKULAR hindu youths,who do mockery of own religion,dont forget how shamelessly ppl r laughing.Because of this ppl like Munawar Faruqui feel no fear in doing same. No wonder hindus r treated like minority in india.M sure majority of them r hindus.',\n",
       " \"@barkhatrehan16 Teach your daughter's how to respect Men. Don't tell your son's to treat women with respect when they are being attacked viciously.! #womenaretrash #fakefemisnism\",\n",
       " '@seemagoswami Brilliant!!',\n",
       " '\"War Between #Russia And #Ukraine Now Inevitable\"  The #Nationalists have to weakened by presenting them with a checkmate and since the #US will not fight, sooner is better than later.  https://t.co/abAlQ2IXzi',\n",
       " 'Am a Delhi girl. Please don’t generalise. If I ever meet this man, or the other ugly uncle who spat on a girl from the north east, I will deal with them like a Delhiwala too.',\n",
       " 'Section #498A Challenges | We discuss with Lawyer &amp; Activist @raghav355   https://t.co/SFYvtfuOoZ',\n",
       " '@shivani_sikh @Good74738318 Second r@pe at the #FakeFarmersProtest .  https://t.co/p707K9mj6O And, no one is talking about it !!  https://t.co/cnYdSOcz8p',\n",
       " \"I'm sorry y'all get treated like shit and I understand that you're sick of it. I am too. You think it's as easy as telling a certain group to stop fucking raping y'all? It's fucking not! Anyone who was planning to rape someone was already going to regardless of what I say\",\n",
       " 'Yesterday. Shameless.  https://t.co/6Klvbe8PEr',\n",
       " 'And we’re the toxic ones! Another stupid bitch with verified account speaking shit for no reason',\n",
       " \"@AfreenFatima136 May Allah bless us and keep us safe. Each hour of everyday and be the light that guides us, each step along life's way. Ameen.\",\n",
       " '@rajcheerfull @fridayslive1 Thanks for having me Raj, was great fun',\n",
       " '@biggbosskhabri4 Its not like that... Even tapsee told in media. They dont relate each other.',\n",
       " \"@JoielAkilan Spoken like a true rice bag convert. Perhaps your immediate family were living on the pavement until a missionary offered them a few rice bags and bingo they were suddenly *enlightened* 😳🤔 Morons like you can't see the glorious past of the land called Bharat.\",\n",
       " '@benipal_vsb16 What you think?',\n",
       " '@_sabanaqvi You mean it would have been good days if they managed to evade taxes?',\n",
       " '@willsworldview @stuartmaxwell14 @WmManry I am often called delusional and you have every right to say it if you want. People make fun of Christians all the time.   Your secular society has a double standard. They dont care that you calling me delusional may cause me depression, or you not affirming me causes me pain.',\n",
       " '@LavanyaBallal @HasibaAmin Meanwhile Congress supporters are fine with this. Disgusting hypocrisy  https://t.co/M4w1wCVGxg',\n",
       " '@BDUTT @themojostory @NewspaperWorld Massive congratulations, Barkha! You deserve every pedestal!🏆',\n",
       " \"rap mature, why can't you be like Macklemore? why you always gotta smack a whore?\",\n",
       " '\\u2066@SanjayJha\\u2069 Pak agents resigned 😑?  https://t.co/W6eCWkpe6N',\n",
       " 'There’s a free for all in India’s capital. Gun-toting cowards, sleazoids groping women inside their college campus. We’re a sick society. Ab sab saaf dikh raha hai. Curses to all of these losers, hope you suffer and die. And you will.',\n",
       " '@baxishweta Yeah you’re right. Have to get less worked up but sometimes ..',\n",
       " 'Best PM of india . Sickulars are using Burnol  India to have over 2 billion vaccine doses during August-December, enough for all: Centre  https://t.co/XcToDD76za  via NaMo App  https://t.co/XrgYdwsBFD',\n",
       " 'No Campaign/Action against fake news peddler NDTV? now as always they will maintain sickular silence. #StopFundingHate  Boycott Lutyans media they r always working as Congi Media IT Cell #FakeNews  #congresswithnaxals',\n",
       " '@sanjukta @Twitter @JoeBiden Twitter has to answer Biden for actions in India it seems 🤣 is that how you report to your masters.!?',\n",
       " '@nanditadas Protesting farmers are carrying the legecy of Champaran to Tebhaga. Watch how 👇👇👇  https://t.co/BLz3ONmaAH',\n",
       " '@swamy64 He will campaign for every1 \"sickular\" and earn some quick bucks..',\n",
       " '@kavita_krishnan @miakhalifa @Google U pl. follow the footstep of person who quench her huger from porn beggar @miakhalifa (May be U might already be taking I am unsure).  Idiots are worried translation taken from where? huh! Good ppl in India more worried about from where one take values? U take value from Pornstar',\n",
       " 'All our minority citizens are showing such grace &amp; restraint at this trying time.  Please don’t let hate of a few bring you down, the majority of this country loves you We are all in this together.   Jai Hind.  #ShahinBaghProtest',\n",
       " \"@aparna326 This is right time to tell ur husband to make food.. On serious note don't worry.. Do take care.. Smell kapoor thoda for 2 mins 4/5 times a day.. Smell shall come back soon.. Tc 😊\",\n",
       " 'The verdict was a breath of fresh air in stifling times when majoritarian politics is indeed seeking to suppress constitution rights and dictate people’s choice of diet, faith, clothes, partner, views, and ways of expressing themselves. #Section377',\n",
       " '@Nidhi Doctors on your timeline are like you only hate night curfew',\n",
       " 'Fellow scribes this is the most entertaining @rssurjewala presser on panch sitara hotel and the #Sachinpilot embroglio.',\n",
       " \"@sagarikaghose Madam I saw your profile picture I'm so scared 😨. I never saw evil and I never believed they're exist but I see ur picture now I'm 100%sure they're exist. Ma'am ur a PhD holder na in fake news. Auntie Maino award you will get very soon. Goodluck madum1p\",\n",
       " '@SinghJ100 @AKTKadmin So true...khangress made sure Hindus are divided and pissfull keep voting for them...and continued helping Communist across the globe to represent India as suppressed Nation...🙏',\n",
       " 'Interesting results ! Marriages in Hinduism is a heterosexual institution. They cannot be extended for same sex unions because of child birth and the roles assigned to a man and a woman in the vivah.',\n",
       " 'dw tho, these scumbags will be voted back in',\n",
       " '@_sayema @Uppolice Why UP is becoming like Rajasthan government  ?',\n",
       " '@RelianceGenIn worst service provider till now.',\n",
       " '@_sayema So this guy is going to make history?  https://t.co/vR80JP0Ntx',\n",
       " '@BDUTT @galactic77 The major news channels are not interested in \"small\" places ?  Only what\\'s happening in \"Big\" places ?',\n",
       " '@BDUTT U keep on shouting , nobody  believes  in night curfew',\n",
       " '@darshanpathak @coolfunnytshirt The Sickular Jihadi seems to be under lots of pressure from her paymasters in the D-Company and #BollyDawood !',\n",
       " '@HeliumLtd Cool, you guys can rape planet earth at a vastly more efficient rate 👍',\n",
       " 'Shame on you talk without facts .',\n",
       " '@meenakandasamy Looks beautiful 😍❤',\n",
       " 'Hello @_YogendraYadav   How will you sleep peacefully tonight?',\n",
       " '@HinduMavala @JokerIsImmortal @PAmour717 She is no More!',\n",
       " \"A clear NO to gas and the useless Hunter gas plant at today's #ClimateStrike  https://t.co/0L0UF7Irmv\"]"
      ]
     },
     "execution_count": 85,
     "metadata": {},
     "output_type": "execute_result"
    }
   ],
   "source": []
  },
  {
   "cell_type": "code",
   "execution_count": null,
   "metadata": {},
   "outputs": [],
   "source": []
  },
  {
   "cell_type": "markdown",
   "metadata": {},
   "source": [
    "### Queries"
   ]
  },
  {
   "cell_type": "markdown",
   "metadata": {},
   "source": [
    "\n",
    "- are handle names considered as slur?\n",
    "- splitting by space,doesn't tokenize few tokens with punctuations\n",
    "\n",
    "\n",
    "- implementation from extension standpoint?\n",
    "- Tackle corner cases like Fccckk,fagggot .. --> (1)\n",
    "\n",
    "\n",
    "**What's the Ideal Approximate string matching for our use case?**\n",
    "\n",
    "- Find the right threshold-score\n",
    "- Find the right edit distance\n",
    "\n",
    "  score more suitable than distance,as dist needs to be much precised?\n",
    "  with score,we can accomodate more approximate matchings\n",
    "\n",
    "**Problems with edit distance?**\n",
    "- corner cases in (1) are not handled properly\n",
    "\n",
    "**Handling Corner case**\n",
    "\n",
    "- Replace that substring(with multiple occurences of a char) with a single character -> perform the string matching\n",
    "\n",
    "\n",
    "**Any other corner cases**\n",
    "- ? "
   ]
  },
  {
   "cell_type": "markdown",
   "metadata": {},
   "source": [
    "### Case 1 : Exact Matching\n",
    "\n",
    "- case insensitive\n",
    "- lowercase the slurs for exact matching\n",
    "- splitting by 'space' for tokenizing the tweet\n",
    "    "
   ]
  },
  {
   "cell_type": "code",
   "execution_count": 86,
   "metadata": {},
   "outputs": [
    {
     "data": {
      "text/plain": [
       "176"
      ]
     },
     "execution_count": 86,
     "metadata": {},
     "output_type": "execute_result"
    }
   ],
   "source": [
    "len(random_en_tweets)"
   ]
  },
  {
   "cell_type": "code",
   "execution_count": 87,
   "metadata": {},
   "outputs": [],
   "source": [
    "slurs_list = list(slurs_set)\n",
    "slurs_list = [slur.lower() for slur in slurs_list]"
   ]
  },
  {
   "cell_type": "code",
   "execution_count": 88,
   "metadata": {},
   "outputs": [],
   "source": [
    "def replace_slur(tweet,slurs_list):\n",
    "    \n",
    "    print(\"Original:\\n\",tweet)\n",
    "    \n",
    "    slurs_count_dict = {slur:0 for slur in slurs_list}\n",
    "    \n",
    "    for token in tweet.split(' '):\n",
    "        \n",
    "        if token.lower() in slurs_count_dict:\n",
    "            \n",
    "            tweet = tweet.replace(token,'<replace>')\n",
    "            \n",
    "    return tweet"
   ]
  },
  {
   "cell_type": "code",
   "execution_count": 89,
   "metadata": {},
   "outputs": [
    {
     "name": "stdout",
     "output_type": "stream",
     "text": [
      "Original:\n",
      " The #genderbiasedlaws are devise of evil and demonic possessed psyche as it destroys families and kills innocent victims #fakefeminism #FakeCases on Men #FeminismIsCoronaVirus #Feminism is worst then #Covid_19 #DomesticViolenceOnMen @PMOIndia @HMOIndia @MinistryWCD @rsprasad.  https://t.co/MyrnV2bpZ6\n"
     ]
    },
    {
     "data": {
      "text/plain": [
       "'The <replace> are devise of evil and demonic possessed psyche as it destroys families and kills innocent victims #fakefeminism #FakeCases on Men #FeminismIsCoronaVirus #Feminism is worst then #Covid_19 #DomesticViolenceOnMen @PMOIndia @HMOIndia @MinistryWCD @rsprasad.  https://t.co/MyrnV2bpZ6'"
      ]
     },
     "execution_count": 89,
     "metadata": {},
     "output_type": "execute_result"
    }
   ],
   "source": [
    "replace_slur(random_en_tweets[40],slurs_list)"
   ]
  },
  {
   "cell_type": "markdown",
   "metadata": {},
   "source": [
    "### Case 2 : Approximate Matching\n",
    "\n",
    "- using fuzzywuzzy (Levenstein distance)[+]\n",
    "\n",
    "    - using fuzzy score\n",
    "    - using edit distance\n",
    "    \n",
    "- using DamerauLevenshtein "
   ]
  },
  {
   "cell_type": "markdown",
   "metadata": {},
   "source": [
    "#### Work flow of  Slur Replacment\n",
    "\n",
    "Case 1 \n",
    "\n",
    "Exact\n",
    "\n",
    "- -> Given a tweet -> \n",
    "\n",
    "  -> find the token in the tweet which matches with any of the slur in slurs list ->\n",
    "  \n",
    "  -> replace the token with 'replace' token\n",
    "\n",
    "Case 2\n",
    "\n",
    "Approximate \n",
    "\n",
    "-  -> Given a tweet -> \n",
    "\n",
    "   -> compare the tweet with all slurs in the slurs list ->\n",
    "   \n",
    "   -> find the matching slur with highest similarity score -> \n",
    "   \n",
    "   -> find the matching token in the tweet (using edit distance) ->\n",
    "   \n",
    "   -> replace the found matching token with 'replace' token\n",
    "   "
   ]
  },
  {
   "cell_type": "markdown",
   "metadata": {},
   "source": [
    "#### Using Fuzzywuzzy (LEvenstein dist.)"
   ]
  },
  {
   "cell_type": "code",
   "execution_count": 99,
   "metadata": {},
   "outputs": [],
   "source": [
    "from fuzzywuzzy import process\n",
    "from fuzzywuzzy import fuzz\n",
    "\n",
    "import Levenshtein as lev"
   ]
  },
  {
   "cell_type": "code",
   "execution_count": 100,
   "metadata": {},
   "outputs": [],
   "source": [
    "def edit_distance(s1,s2):\n",
    "    \n",
    "    return lev.distance(s1.lower(),s2.lower())"
   ]
  },
  {
   "cell_type": "code",
   "execution_count": 105,
   "metadata": {},
   "outputs": [],
   "source": [
    "def replace_with_token(tweet,slur,token,replace_token='<replace>'):\n",
    "    \n",
    "    return tweet.replace(token,slur).replace(slur,replace_token)"
   ]
  },
  {
   "cell_type": "code",
   "execution_count": 186,
   "metadata": {},
   "outputs": [],
   "source": [
    "def replace_slurs_score(tweet,slurs_list,threshold_score):\n",
    "    \n",
    "    print(f'original tweet : {tweet}')\n",
    "    check = 0\n",
    "    \n",
    "    match = process.extract(tweet,slurs_list)[0][0]  \n",
    "    \n",
    "    score = process.extract(tweet,slurs_list)[0][1]\n",
    "    print(f'score  : {score}')\n",
    "    print(f'threshold score : {threshold_score}')\n",
    "    print(f'match slur : {match}')\n",
    "    min_dist = 1000\n",
    "    \n",
    "    for token in tweet.split(' '):\n",
    "        \n",
    "        dis = lev.distance(token,match)\n",
    "        \n",
    "        if dis <= min_dist and score >= threshold_score:\n",
    "        \n",
    "            replace_token = token\n",
    "            min_dist = dis\n",
    "            check = 1\n",
    "    \n",
    "    if check == 0:\n",
    "        return tweet\n",
    "    \n",
    "    else:\n",
    "        print(f'\\nfinal tweet ')\n",
    "        return replace_with_token(tweet,match,replace_token)"
   ]
  },
  {
   "cell_type": "code",
   "execution_count": 108,
   "metadata": {},
   "outputs": [],
   "source": [
    "def replace_slurs_dist(tweet,slurs_list,dist):\n",
    "    \n",
    "    match = process.extract(tweet,slurs_list)[0][0]\n",
    "\n",
    "    for token in tweet.split(' '):\n",
    "\n",
    "        dis = lev.distance(token,match)\n",
    "\n",
    "        if dis <= dist:\n",
    "\n",
    "            tweet = replace_with_token(tweet,match,token)\n",
    "        \n",
    "    return tweet"
   ]
  },
  {
   "cell_type": "code",
   "execution_count": 147,
   "metadata": {},
   "outputs": [
    {
     "name": "stdout",
     "output_type": "stream",
     "text": [
      "60\n"
     ]
    },
    {
     "data": {
      "text/plain": [
       "'The #genderbiasedlaws are devise of evil and demonic possessed psyche as it destroys families and kills innocent victims #fakefeminism #FakeCases on Men #FeminismIsCoronaVirus #Feminism is worst then #Covid_19 #DomesticViolenceOnMen @PMOIndia @HMOIndia @MinistryWCD @rsprasad.  https://t.co/MyrnV2bpZ6'"
      ]
     },
     "execution_count": 147,
     "metadata": {},
     "output_type": "execute_result"
    }
   ],
   "source": [
    "# threshold 80\n",
    "replace_slurs_score(random_en_tweets[40],slurs_list,80)"
   ]
  },
  {
   "cell_type": "code",
   "execution_count": 148,
   "metadata": {},
   "outputs": [
    {
     "name": "stdout",
     "output_type": "stream",
     "text": [
      "60\n"
     ]
    },
    {
     "data": {
      "text/plain": [
       "'The #genderbiasedlaws are devise of evil and demonic possessed psyche as it destroys families and kills innocent victims #fakefeminism #FakeCases on Men #FeminismIsCoronaVirus #Feminism is worst then #Covid_19 <replace> @PMOIndia @HMOIndia @MinistryWCD @rsprasad.  https://t.co/MyrnV2bpZ6'"
      ]
     },
     "execution_count": 148,
     "metadata": {},
     "output_type": "execute_result"
    }
   ],
   "source": [
    "# threshold 40\n",
    "replace_slurs_score(random_en_tweets[40],slurs_list,40)"
   ]
  },
  {
   "cell_type": "code",
   "execution_count": 149,
   "metadata": {},
   "outputs": [],
   "source": []
  },
  {
   "cell_type": "code",
   "execution_count": 150,
   "metadata": {},
   "outputs": [
    {
     "name": "stdout",
     "output_type": "stream",
     "text": [
      "86\n"
     ]
    },
    {
     "data": {
      "text/plain": [
       "'The guy that tried to <replace> me when I was 17 died a couple days.   Hm. Sad.'"
      ]
     },
     "execution_count": 150,
     "metadata": {},
     "output_type": "execute_result"
    }
   ],
   "source": [
    "# threshold 60\n",
    "replace_slurs_score(rape_tweets[2],slurs_list,60)"
   ]
  },
  {
   "cell_type": "code",
   "execution_count": 152,
   "metadata": {},
   "outputs": [
    {
     "name": "stdout",
     "output_type": "stream",
     "text": [
      "86\n"
     ]
    },
    {
     "data": {
      "text/plain": [
       "'The guy that tried to rape me when I was 17 died a couple days.   Hm. Sad.'"
      ]
     },
     "execution_count": 152,
     "metadata": {},
     "output_type": "execute_result"
    }
   ],
   "source": [
    "# threshold 90\n",
    "replace_slurs_score(rape_tweets[2],slurs_list,90)"
   ]
  },
  {
   "cell_type": "markdown",
   "metadata": {},
   "source": [
    "#### Using fastDamerau Levenshtein\n",
    "\n",
    "- Levenstein + Transposition"
   ]
  },
  {
   "cell_type": "code",
   "execution_count": 72,
   "metadata": {
    "scrolled": false
   },
   "outputs": [
    {
     "name": "stdout",
     "output_type": "stream",
     "text": [
      "Requirement already satisfied: fastDamerauLevenshtein in /home/mlkorra/anaconda3/envs/nlp/lib/python3.7/site-packages (1.0.7)\r\n"
     ]
    }
   ],
   "source": [
    "!pip install fastDamerauLevenshtein"
   ]
  },
  {
   "cell_type": "code",
   "execution_count": 73,
   "metadata": {},
   "outputs": [],
   "source": [
    "from fastDamerauLevenshtein import damerauLevenshtein"
   ]
  },
  {
   "cell_type": "code",
   "execution_count": 127,
   "metadata": {},
   "outputs": [
    {
     "data": {
      "text/plain": [
       "4.0"
      ]
     },
     "execution_count": 127,
     "metadata": {},
     "output_type": "execute_result"
    }
   ],
   "source": [
    "damerauLevenshtein('rape','r@ppppe',similarity=False)"
   ]
  },
  {
   "cell_type": "code",
   "execution_count": 122,
   "metadata": {},
   "outputs": [
    {
     "data": {
      "text/plain": [
       "0.5"
      ]
     },
     "execution_count": 122,
     "metadata": {},
     "output_type": "execute_result"
    }
   ],
   "source": [
    "#def replace_slurs_fastDL(tweet):\n",
    "    \n",
    "from fastDamerauLevenshtein import damerauLevenshtein\n",
    "damerauLevenshtein('ca', 'abc', similarity=False)  # expected result: 2.0\n",
    "damerauLevenshtein('car', 'cars', similarity=True)  # expected result: 0.75\n",
    "damerauLevenshtein(['ab', 'bc'], ['ab'], similarity=False)  # expected result: 1.0\n",
    "damerauLevenshtein(['ab', 'bc'], ['ab'], similarity=True)  # expected result: 0.5"
   ]
  },
  {
   "cell_type": "code",
   "execution_count": 129,
   "metadata": {},
   "outputs": [
    {
     "data": {
      "text/plain": [
       "3.0"
      ]
     },
     "execution_count": 129,
     "metadata": {},
     "output_type": "execute_result"
    }
   ],
   "source": [
    "#no of edits\n",
    "damerauLevenshtein('fuck','fuckkkk',similarity=False)"
   ]
  },
  {
   "cell_type": "code",
   "execution_count": 131,
   "metadata": {},
   "outputs": [
    {
     "data": {
      "text/plain": [
       "0.5714285714285714"
      ]
     },
     "execution_count": 131,
     "metadata": {},
     "output_type": "execute_result"
    }
   ],
   "source": [
    "#score\n",
    "damerauLevenshtein('fuck','fuckkkk',similarity=True)"
   ]
  },
  {
   "cell_type": "code",
   "execution_count": 132,
   "metadata": {},
   "outputs": [
    {
     "data": {
      "text/plain": [
       "0.6666666666666666"
      ]
     },
     "execution_count": 132,
     "metadata": {},
     "output_type": "execute_result"
    }
   ],
   "source": [
    "damerauLevenshtein('fuck','fuckkk',similarity=True)"
   ]
  },
  {
   "cell_type": "code",
   "execution_count": 133,
   "metadata": {},
   "outputs": [
    {
     "data": {
      "text/plain": [
       "0.8"
      ]
     },
     "execution_count": 133,
     "metadata": {},
     "output_type": "execute_result"
    }
   ],
   "source": [
    "damerauLevenshtein('fuck','fuckk',similarity=True)"
   ]
  },
  {
   "cell_type": "markdown",
   "metadata": {},
   "source": [
    "#### util function for Damerau Levenstein"
   ]
  },
  {
   "cell_type": "code",
   "execution_count": 141,
   "metadata": {},
   "outputs": [],
   "source": [
    "ada = max([damerauLevenshtein('I am an asshole',i) for i in slurs_list])"
   ]
  },
  {
   "cell_type": "code",
   "execution_count": 142,
   "metadata": {},
   "outputs": [
    {
     "data": {
      "text/plain": [
       "0.4"
      ]
     },
     "execution_count": 142,
     "metadata": {},
     "output_type": "execute_result"
    }
   ],
   "source": [
    "ada"
   ]
  },
  {
   "cell_type": "code",
   "execution_count": 191,
   "metadata": {},
   "outputs": [],
   "source": [
    "def replace_slurs_fastDL_score(tweet,slurs_list,threshold_score):\n",
    "    \n",
    "    print(f'tweet : {tweet}')\n",
    "    check = 0\n",
    "    \n",
    "    score_list = [damerauLevenshtein(tweet,i) for i in slurs_list]\n",
    "    score = max(score_list)\n",
    "    print(f'score : {score}')\n",
    "    print(f'threshold score : {threshold_score}')\n",
    "    match_slur = slurs_list[score_list.index(score)]\n",
    "    print(f'match slur : {match_slur}')\n",
    "    for token in tweet.split(' '):\n",
    "        \n",
    "        dis = lev.distance(token,match_slur)\n",
    "        min_dist = 1000\n",
    "        \n",
    "        if dis <= min_dist and score >= threshold_score:\n",
    "        \n",
    "            replace_token = token\n",
    "            min_dist = dis\n",
    "            check = 1\n",
    "    \n",
    "    if check == 0:\n",
    "        print('\\nfinal tweet')\n",
    "        return tweet\n",
    "    \n",
    "    else:\n",
    "        print('\\nfinal tweet')\n",
    "        return replace_with_token(tweet,match_slur,replace_token)  \n",
    "        "
   ]
  },
  {
   "cell_type": "markdown",
   "metadata": {},
   "source": [
    "#### using Damerau Levenstein"
   ]
  },
  {
   "cell_type": "code",
   "execution_count": 192,
   "metadata": {},
   "outputs": [
    {
     "name": "stdout",
     "output_type": "stream",
     "text": [
      "tweet : The guy that tried to rape me when I was 17 died a couple days.   Hm. Sad.\n",
      "score : 0.14864864864864866\n",
      "threshold score : 0.5\n",
      "match slur : anti national tukde\n",
      "\n",
      "final tweet\n"
     ]
    },
    {
     "data": {
      "text/plain": [
       "'The guy that tried to rape me when I was 17 died a couple days.   Hm. Sad.'"
      ]
     },
     "execution_count": 192,
     "metadata": {},
     "output_type": "execute_result"
    }
   ],
   "source": [
    "# threshold score 0.5\n",
    "replace_slurs_fastDL_score(rape_tweets[2],slurs_list,0.5)"
   ]
  },
  {
   "cell_type": "code",
   "execution_count": 193,
   "metadata": {},
   "outputs": [
    {
     "name": "stdout",
     "output_type": "stream",
     "text": [
      "tweet : The guy that tried to rape me when I was 17 died a couple days.   Hm. Sad.\n",
      "score : 0.14864864864864866\n",
      "threshold score : 0.1\n",
      "match slur : anti national tukde\n",
      "\n",
      "final tweet\n"
     ]
    },
    {
     "data": {
      "text/plain": [
       "'The guy that tried to rape me when I was 17 died a couple days.   Hm. <replace>'"
      ]
     },
     "execution_count": 193,
     "metadata": {},
     "output_type": "execute_result"
    }
   ],
   "source": [
    "replace_slurs_fastDL_score(rape_tweets[2],slurs_list,0.1)"
   ]
  },
  {
   "cell_type": "markdown",
   "metadata": {},
   "source": [
    "#### using Fuzzywuzzy (Levenstein)"
   ]
  },
  {
   "cell_type": "code",
   "execution_count": 194,
   "metadata": {},
   "outputs": [
    {
     "name": "stdout",
     "output_type": "stream",
     "text": [
      "original tweet : The guy that tried to rape me when I was 17 died a couple days.   Hm. Sad.\n",
      "score  : 86\n",
      "threshold score : 50\n",
      "match slur : rape/r@pe/r@p3\n",
      "\n",
      "final tweet \n"
     ]
    },
    {
     "data": {
      "text/plain": [
       "'The guy that tried to <replace> me when I was 17 died a couple days.   Hm. Sad.'"
      ]
     },
     "execution_count": 194,
     "metadata": {},
     "output_type": "execute_result"
    }
   ],
   "source": [
    "replace_slurs_score(rape_tweets[2],slurs_list,50)"
   ]
  },
  {
   "cell_type": "code",
   "execution_count": 195,
   "metadata": {},
   "outputs": [
    {
     "name": "stdout",
     "output_type": "stream",
     "text": [
      "original tweet : The guy that tried to rape me when I was 17 died a couple days.   Hm. Sad.\n",
      "score  : 86\n",
      "threshold score : 90\n",
      "match slur : rape/r@pe/r@p3\n"
     ]
    },
    {
     "data": {
      "text/plain": [
       "'The guy that tried to rape me when I was 17 died a couple days.   Hm. Sad.'"
      ]
     },
     "execution_count": 195,
     "metadata": {},
     "output_type": "execute_result"
    }
   ],
   "source": [
    "replace_slurs_score(rape_tweets[2],slurs_list,90)"
   ]
  },
  {
   "cell_type": "code",
   "execution_count": null,
   "metadata": {},
   "outputs": [],
   "source": []
  }
 ],
 "metadata": {
  "kernelspec": {
   "display_name": "Python 3.7.11 64-bit ('nlp': conda)",
   "language": "python",
   "name": "python3711jvsc74a57bd07afbde5199b4215604d9ba5a0bf2f330e5a9d3140d2f7848025bd250c5fae2df"
  },
  "language_info": {
   "codemirror_mode": {
    "name": "ipython",
    "version": 3
   },
   "file_extension": ".py",
   "mimetype": "text/x-python",
   "name": "python",
   "nbconvert_exporter": "python",
   "pygments_lexer": "ipython3",
   "version": "3.7.11"
  }
 },
 "nbformat": 4,
 "nbformat_minor": 2
}
